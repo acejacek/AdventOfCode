{
 "cells": [
  {
   "cell_type": "markdown",
   "id": "7f3afca8-2c46-4c6f-8884-05801bda2346",
   "metadata": {},
   "source": [
    "# Advent of Code 2016, Day 4: Security Through Obscurity"
   ]
  },
  {
   "cell_type": "markdown",
   "id": "c1f0e75e-c9b5-41c3-ab44-f9cb5aae7d1f",
   "metadata": {},
   "source": [
    "## Part 1"
   ]
  },
  {
   "cell_type": "code",
   "execution_count": 77,
   "id": "b3e7e936-cd1d-487f-8aba-328c12388802",
   "metadata": {
    "tags": []
   },
   "outputs": [],
   "source": [
    "import re"
   ]
  },
  {
   "cell_type": "code",
   "execution_count": 67,
   "id": "df4dbfbd-6f89-4cee-b5b6-9ff038b5e7f7",
   "metadata": {
    "tags": []
   },
   "outputs": [],
   "source": [
    "data = \"aaaaa-bbb-z-y-x-123[abxyz]\""
   ]
  },
  {
   "cell_type": "code",
   "execution_count": 84,
   "id": "12016c60-2d95-4339-a2af-94ec66042bb9",
   "metadata": {
    "tags": []
   },
   "outputs": [],
   "source": [
    "sector = re.search(\"\\d+\", data)"
   ]
  },
  {
   "cell_type": "code",
   "execution_count": 86,
   "id": "9296c039-d295-427b-8a19-999b84a237c1",
   "metadata": {
    "tags": []
   },
   "outputs": [
    {
     "name": "stdout",
     "output_type": "stream",
     "text": [
      "123\n"
     ]
    }
   ],
   "source": [
    "print(sector[0])"
   ]
  },
  {
   "cell_type": "code",
   "execution_count": null,
   "id": "193a8912-ca95-4cb6-b18f-f19ddd87490e",
   "metadata": {},
   "outputs": [],
   "source": [
    "code = re.search(\"[a-z]+"
   ]
  },
  {
   "cell_type": "code",
   "execution_count": 63,
   "id": "bc8641e8-7f5b-4eef-b772-450fe8540f61",
   "metadata": {
    "tags": []
   },
   "outputs": [],
   "source": [
    "class Wildcard:\n",
    "    def __eq__(self, anything):\n",
    "        return True"
   ]
  },
  {
   "cell_type": "code",
   "execution_count": 75,
   "id": "65dc0b44-1f24-4ea2-be5a-4c3262f52913",
   "metadata": {
    "tags": []
   },
   "outputs": [],
   "source": [
    "letters = []\n",
    "wc = Wildcard()\n",
    "\n",
    "for x in code[0]:\n",
    "    if x == \"-\":\n",
    "        continue\n",
    "    try:\n",
    "        index = letters.index([x, wc])\n",
    "    except ValueError:\n",
    "        # print(\"I don't have it: \" + x)\n",
    "        letters.append([x, 1])\n",
    "    else:\n",
    "        # print (\"I found this: \" + letters[index][0])\n",
    "        letters[index][1] += 1"
   ]
  },
  {
   "cell_type": "code",
   "execution_count": 76,
   "id": "bdd60fb5-d9d5-45ad-92e9-783ac5e35b1b",
   "metadata": {
    "tags": []
   },
   "outputs": [
    {
     "data": {
      "text/plain": [
       "[['a', 5],\n",
       " ['b', 3],\n",
       " ['z', 1],\n",
       " ['y', 1],\n",
       " ['x', 1],\n",
       " ['1', 1],\n",
       " ['2', 1],\n",
       " ['3', 1]]"
      ]
     },
     "execution_count": 76,
     "metadata": {},
     "output_type": "execute_result"
    }
   ],
   "source": [
    "letters"
   ]
  },
  {
   "cell_type": "code",
   "execution_count": null,
   "id": "c485897d-bcb5-4628-b626-da3350ba85a0",
   "metadata": {},
   "outputs": [],
   "source": []
  }
 ],
 "metadata": {
  "kernelspec": {
   "display_name": "Python 3 (ipykernel)",
   "language": "python",
   "name": "python3"
  },
  "language_info": {
   "codemirror_mode": {
    "name": "ipython",
    "version": 3
   },
   "file_extension": ".py",
   "mimetype": "text/x-python",
   "name": "python",
   "nbconvert_exporter": "python",
   "pygments_lexer": "ipython3",
   "version": "3.11.5"
  }
 },
 "nbformat": 4,
 "nbformat_minor": 5
}
