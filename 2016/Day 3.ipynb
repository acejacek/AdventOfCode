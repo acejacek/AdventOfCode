{
 "cells": [
  {
   "cell_type": "markdown",
   "id": "f2e39adb-149f-4ee3-ac50-fdff821b1736",
   "metadata": {},
   "source": [
    "# Advent of Code 2016, Day 3: Squares With Three Sides"
   ]
  },
  {
   "cell_type": "markdown",
   "id": "48910172-283d-4d65-9ccd-886c9228e776",
   "metadata": {},
   "source": [
    "## Part 1"
   ]
  },
  {
   "cell_type": "code",
   "execution_count": 57,
   "id": "1a5a7ab0-ab53-4b74-9353-d43854ed9bbf",
   "metadata": {
    "tags": []
   },
   "outputs": [],
   "source": [
    "def is_possible(a, b, c):\n",
    "    triangle = [int(a), int(b), int(c)]\n",
    "    triangle.sort()\n",
    "    if triangle[0] + triangle[1] > triangle[2]:\n",
    "        return 1\n",
    "\n",
    "    return 0"
   ]
  },
  {
   "cell_type": "code",
   "execution_count": 58,
   "id": "175d5fb9-50d2-4e1e-bd2c-09a9c2540fa9",
   "metadata": {
    "tags": []
   },
   "outputs": [
    {
     "name": "stdout",
     "output_type": "stream",
     "text": [
      "1050\n"
     ]
    }
   ],
   "source": [
    "possible = 0\n",
    "\n",
    "with open(\"day3.txt\") as file:\n",
    "    for line in file:\n",
    "        a, b, c = line.split()\n",
    "        possible += is_possible(a, b, c)\n",
    "\n",
    "print(possible)"
   ]
  },
  {
   "cell_type": "markdown",
   "id": "c1b96591-878f-4304-9469-be15f95518a4",
   "metadata": {},
   "source": [
    "## Part 2"
   ]
  },
  {
   "cell_type": "code",
   "execution_count": 59,
   "id": "4fb511bd-63d8-49db-8276-086880742fdd",
   "metadata": {
    "tags": []
   },
   "outputs": [
    {
     "name": "stdout",
     "output_type": "stream",
     "text": [
      "1921\n"
     ]
    }
   ],
   "source": [
    "possible = 0\n",
    "\n",
    "with open(\"day3.txt\") as file:\n",
    "    for line in file:\n",
    "        a, b, c = line.split()\n",
    "        d, e, f = file.readline().split()\n",
    "        g, h, i = file.readline().split()\n",
    "        \n",
    "        possible += is_possible(a, d, g)\n",
    "        possible += is_possible(b, e, h)\n",
    "        possible += is_possible(c, f, i)\n",
    "\n",
    "print(possible)\n"
   ]
  },
  {
   "cell_type": "code",
   "execution_count": null,
   "id": "83a67410-5d40-41cf-a222-7db303c74c63",
   "metadata": {},
   "outputs": [],
   "source": []
  }
 ],
 "metadata": {
  "kernelspec": {
   "display_name": "Python 3 (ipykernel)",
   "language": "python",
   "name": "python3"
  },
  "language_info": {
   "codemirror_mode": {
    "name": "ipython",
    "version": 3
   },
   "file_extension": ".py",
   "mimetype": "text/x-python",
   "name": "python",
   "nbconvert_exporter": "python",
   "pygments_lexer": "ipython3",
   "version": "3.11.5"
  }
 },
 "nbformat": 4,
 "nbformat_minor": 5
}
