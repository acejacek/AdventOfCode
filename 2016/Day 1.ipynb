{
 "cells": [
  {
   "cell_type": "markdown",
   "id": "ba48eaf1",
   "metadata": {},
   "source": [
    "# Advent of Code 2016, Day 1: No Time for a Taxicab"
   ]
  },
  {
   "cell_type": "code",
   "execution_count": 14,
   "id": "e9ebeb98",
   "metadata": {
    "tags": []
   },
   "outputs": [],
   "source": [
    "import re\n",
    "from sys import exit"
   ]
  },
  {
   "cell_type": "code",
   "execution_count": 2,
   "id": "03a38417",
   "metadata": {
    "tags": []
   },
   "outputs": [],
   "source": [
    "instructions = \"R4, R4, L1, R3, L5, R2, R5, R1, L4, R3, L5, R2, L3, L4, L3, R1, R5, R1, L3, L1, R3, L1, R2, R2, L2, R5, L3, L4, R4, R4, R2, L4, L1, R5, L1, L4, R4, L1, R1, L2, R5, L2, L3, R2, R1, L194, R2, L4, R49, R1, R3, L5, L4, L1, R4, R2, R1, L5, R3, L5, L4, R4, R4, L2, L3, R78, L5, R4, R191, R4, R3, R1, L2, R1, R3, L1, R3, R4, R2, L2, R1, R4, L5, R2, L2, L4, L2, R1, R2, L3, R5, R2, L3, L3, R3, L1, L1, R5, L4, L4, L2, R5, R1, R4, L3, L5, L4, R5, L4, R5, R4, L3, L2, L5, R4, R3, L3, R1, L5, R5, R1, L3, R2, L5, R5, L3, R1, R4, L5, R4, R2, R3, L4, L5, R3, R4, L5, L5, R4, L4, L4, R1, R5, R3, L1, L4, L3, L4, R1, L5, L1, R2, R2, R4, R4, L5, R4, R1, L1, L1, L3, L5, L2, R4, L3, L5, L4, L1, R3\""
   ]
  },
  {
   "cell_type": "code",
   "execution_count": 3,
   "id": "4926b76f",
   "metadata": {
    "scrolled": true,
    "tags": []
   },
   "outputs": [],
   "source": [
    "tokens = instructions.split(', ')"
   ]
  },
  {
   "cell_type": "markdown",
   "id": "710248e9",
   "metadata": {},
   "source": [
    "## Part 1"
   ]
  },
  {
   "cell_type": "code",
   "execution_count": 4,
   "id": "553373ec",
   "metadata": {
    "tags": []
   },
   "outputs": [],
   "source": [
    "def set_direction(direction, command):\n",
    "    \n",
    "    if command == 'R':\n",
    "        direction += 90\n",
    "    else:\n",
    "        direction -= 90\n",
    "\n",
    "    if direction == 360:\n",
    "        direction = 0\n",
    "    if direction == -90:\n",
    "        direction = 270 \n",
    "        \n",
    "    return direction"
   ]
  },
  {
   "cell_type": "code",
   "execution_count": 5,
   "id": "f94948b1",
   "metadata": {
    "tags": []
   },
   "outputs": [
    {
     "name": "stdout",
     "output_type": "stream",
     "text": [
      "Distance away: 146\n"
     ]
    }
   ],
   "source": [
    "x = 0; y = 0; direction = 0\n",
    "\n",
    "for token in tokens:\n",
    "    match = re.match(r\"([a-z]+)([0-9]+)\", token, re.I)\n",
    "    if match:\n",
    "        command = match.group(1)\n",
    "        steps = int(match.group(2))\n",
    "        \n",
    "        direction = set_direction(direction, command)\n",
    "\n",
    "        if direction == 0:           # N\n",
    "            y += steps\n",
    "        elif direction == 90:        # E\n",
    "            x += steps\n",
    "        elif direction == 180:       # S\n",
    "            y -= steps\n",
    "        else:                        # W\n",
    "            x -= steps\n",
    "            \n",
    "print(\"Distance away:\", abs(x) + abs (y))    "
   ]
  },
  {
   "cell_type": "markdown",
   "id": "e8738ad8",
   "metadata": {},
   "source": [
    "## Part 2"
   ]
  },
  {
   "cell_type": "code",
   "execution_count": 24,
   "id": "fb67bb74",
   "metadata": {
    "tags": []
   },
   "outputs": [],
   "source": [
    "def check(x, y):\n",
    "    global visited\n",
    "    if [x, y] in visited:     \n",
    "        print(\"Distance away:\", abs(x) + abs (y))\n",
    "        print(\" loc: \", x, y)\n",
    "        exit()\n",
    "\n",
    "    else:\n",
    "        visited.append([x, y])"
   ]
  },
  {
   "cell_type": "code",
   "execution_count": 25,
   "id": "1a63405f",
   "metadata": {
    "tags": []
   },
   "outputs": [],
   "source": [
    "def do_steps(direction, steps):\n",
    "\n",
    "    global x\n",
    "    global y\n",
    "    \n",
    "    if direction == 0:           # N\n",
    "        for step in range (steps):\n",
    "            y += 1\n",
    "            check(x, y)\n",
    "\n",
    "    elif direction == 90:        # E\n",
    "        for step in range (steps):\n",
    "            x += 1\n",
    "            check(x, y)\n",
    "\n",
    "    elif direction == 180:       # S\n",
    "        for step in range (steps):\n",
    "            y -= 1\n",
    "            check(x, y)\n",
    "\n",
    "    else:                        # W\n",
    "        for step in range (steps):\n",
    "            x -= 1\n",
    "            check(x, y)"
   ]
  },
  {
   "cell_type": "code",
   "execution_count": 26,
   "id": "5851f541",
   "metadata": {
    "tags": []
   },
   "outputs": [
    {
     "name": "stdout",
     "output_type": "stream",
     "text": [
      "Distance away: 131\n",
      " loc:  -34 -97\n"
     ]
    },
    {
     "ename": "SystemExit",
     "evalue": "",
     "output_type": "error",
     "traceback": [
      "An exception has occurred, use %tb to see the full traceback.\n",
      "\u001b[1;31mSystemExit\u001b[0m\n"
     ]
    }
   ],
   "source": [
    "x = 0; y = 0; direction = 0;\n",
    "\n",
    "visited = [[x, y]]\n",
    "\n",
    "for token in tokens:\n",
    "        \n",
    "    match = re.match(r\"([a-z]+)([0-9]+)\", token, re.I)\n",
    "    if match:\n",
    "        command = match.group(1)\n",
    "        steps = int(match.group(2))\n",
    "        \n",
    "        direction = set_direction(direction, command)\n",
    "        do_steps(direction, steps)"
   ]
  },
  {
   "cell_type": "code",
   "execution_count": null,
   "id": "5eef6f9c",
   "metadata": {},
   "outputs": [],
   "source": []
  }
 ],
 "metadata": {
  "kernelspec": {
   "display_name": "Python 3 (ipykernel)",
   "language": "python",
   "name": "python3"
  },
  "language_info": {
   "codemirror_mode": {
    "name": "ipython",
    "version": 3
   },
   "file_extension": ".py",
   "mimetype": "text/x-python",
   "name": "python",
   "nbconvert_exporter": "python",
   "pygments_lexer": "ipython3",
   "version": "3.11.5"
  }
 },
 "nbformat": 4,
 "nbformat_minor": 5
}
