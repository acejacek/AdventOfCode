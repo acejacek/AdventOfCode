{
 "cells": [
  {
   "cell_type": "code",
   "execution_count": null,
   "id": "df6e1aea-c352-4682-8077-233f024568bf",
   "metadata": {},
   "outputs": [],
   "source": []
  },
  {
   "cell_type": "markdown",
   "id": "7aea4daf-2604-4b3d-ad84-d404d89d1a5b",
   "metadata": {},
   "source": [
    "# Advent of Code 2016, Day 2: Bathroom Security"
   ]
  },
  {
   "cell_type": "markdown",
   "id": "4de71095-8fd7-43e8-a3ac-436c5838e0d6",
   "metadata": {
    "tags": []
   },
   "source": [
    "## Part 1"
   ]
  },
  {
   "cell_type": "code",
   "execution_count": 127,
   "id": "0049b156-24b4-4e68-9f7e-c697412cdb52",
   "metadata": {
    "tags": []
   },
   "outputs": [],
   "source": [
    "class Keylock:\n",
    "    keypad = []\n",
    "    x = 2\n",
    "    y = 2\n",
    "    x_max = 4\n",
    "    y_max = 4\n",
    "\n",
    "    def __init__(self, part):\n",
    "        if part == 1:\n",
    "            self.keypad = [0,0,0,0,0],[0,1,2,3,0],[0,4,5,6,0],[0,7,8,9,0],[0,0,0,0,0]\n",
    "        else:\n",
    "            self.keypad = [0, 0, 1, 0, 0],[0, 2, 3, 4, 0],[5, 6, 7, 8, 9],[0, \"A\", \"B\", \"C\", 0], [0, 0, \"D\", 0, 0]\n",
    "\n",
    "    def read(self):\n",
    "        return self.keypad[self.y][self.x]\n",
    "    \n",
    "    def up(self):\n",
    "        if self.y > 0 and self.keypad[self.y - 1][self.x] != 0:\n",
    "            self.y -= 1\n",
    "            \n",
    "    def down(self):\n",
    "        if self.y < self.y_max and self.keypad[self.y + 1][self.x] != 0:\n",
    "            self.y += 1\n",
    "            \n",
    "    def left(self):\n",
    "        if self.x > 0 and self.keypad[self.y][self.x - 1] != 0:\n",
    "            self.x -= 1\n",
    "\n",
    "    def right(self):\n",
    "        if self.x < self.x_max and self.keypad[self.y][self.x + 1] != 0:\n",
    "            self.x += 1"
   ]
  },
  {
   "cell_type": "code",
   "execution_count": 131,
   "id": "613c945b-33fe-49b7-a0a6-6da191bac295",
   "metadata": {
    "tags": []
   },
   "outputs": [],
   "source": [
    "def figure_out(part):\n",
    "    key = Keylock(part)\n",
    "    with open(\"day2.txt\") as file:\n",
    "        for line in file:\n",
    "            for step in line:\n",
    "                if step == \"U\":\n",
    "                    key.up()\n",
    "                elif step == \"D\":\n",
    "                    key.down()\n",
    "                elif step == \"L\":\n",
    "                    key.left()\n",
    "                elif step == \"R\":\n",
    "                    key.right()\n",
    "            print(key.read(), end='')"
   ]
  },
  {
   "cell_type": "code",
   "execution_count": 132,
   "id": "5830535f-a2ae-4492-abf4-0e6f910d9acf",
   "metadata": {
    "tags": []
   },
   "outputs": [
    {
     "name": "stdout",
     "output_type": "stream",
     "text": [
      "84452"
     ]
    }
   ],
   "source": [
    "figure_out(1)"
   ]
  },
  {
   "cell_type": "markdown",
   "id": "701bd1a4-6f27-4e15-b518-dbb15a09b69e",
   "metadata": {},
   "source": [
    "## Part 2"
   ]
  },
  {
   "cell_type": "code",
   "execution_count": 133,
   "id": "158fd08e-62be-4ca8-98aa-d51e7fcd7aa4",
   "metadata": {
    "tags": []
   },
   "outputs": [
    {
     "name": "stdout",
     "output_type": "stream",
     "text": [
      "D65C3"
     ]
    }
   ],
   "source": [
    "figure_out(2)"
   ]
  },
  {
   "cell_type": "code",
   "execution_count": null,
   "id": "f5312c27-fba1-4baa-a062-7b01a9ed20d2",
   "metadata": {},
   "outputs": [],
   "source": []
  }
 ],
 "metadata": {
  "kernelspec": {
   "display_name": "Python 3 (ipykernel)",
   "language": "python",
   "name": "python3"
  },
  "language_info": {
   "codemirror_mode": {
    "name": "ipython",
    "version": 3
   },
   "file_extension": ".py",
   "mimetype": "text/x-python",
   "name": "python",
   "nbconvert_exporter": "python",
   "pygments_lexer": "ipython3",
   "version": "3.11.5"
  }
 },
 "nbformat": 4,
 "nbformat_minor": 5
}
